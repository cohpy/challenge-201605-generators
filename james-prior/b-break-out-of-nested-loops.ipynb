{
 "cells": [
  {
   "cell_type": "markdown",
   "metadata": {},
   "source": [
    "Breaking out of nesting loops in Python can be hard. It can be easy with generators.\n",
    "\n",
    "First, we do it the ordinary way."
   ]
  },
  {
   "cell_type": "code",
   "execution_count": 1,
   "metadata": {
    "collapsed": false
   },
   "outputs": [
    {
     "data": {
      "text/plain": [
       "array([[ 0,  1,  2,  3,  4],\n",
       "       [ 5,  6,  7,  8,  9],\n",
       "       [10, 11, 12, 13, 14]])"
      ]
     },
     "execution_count": 1,
     "metadata": {},
     "output_type": "execute_result"
    }
   ],
   "source": [
    "N_COLUMNS = 5\n",
    "N_LINES = 3\n",
    "\n",
    "import numpy as np\n",
    "\n",
    "a = np.arange(N_LINES * N_COLUMNS).reshape(N_LINES, N_COLUMNS)\n",
    "a"
   ]
  },
  {
   "cell_type": "code",
   "execution_count": 2,
   "metadata": {
    "collapsed": false
   },
   "outputs": [
    {
     "name": "stdout",
     "output_type": "stream",
     "text": [
      "[[-1 -1 -1 -1 -1]\n",
      " [-1 -1 -1  8  9]\n",
      " [10 11 12 13 14]]\n"
     ]
    }
   ],
   "source": [
    "please_break = False\n",
    "for line in range(N_LINES):\n",
    "    for column in range(N_COLUMNS):\n",
    "        if a[line, column] == 8:\n",
    "            please_break = True\n",
    "            break\n",
    "        a[line, column] = -1\n",
    "    if please_break:\n",
    "        break\n",
    "        \n",
    "print(a)    "
   ]
  },
  {
   "cell_type": "markdown",
   "metadata": {},
   "source": [
    "Now we do it the easy way with generators."
   ]
  },
  {
   "cell_type": "code",
   "execution_count": 3,
   "metadata": {
    "collapsed": false
   },
   "outputs": [
    {
     "data": {
      "text/plain": [
       "array([[ 0,  1,  2,  3,  4],\n",
       "       [ 5,  6,  7,  8,  9],\n",
       "       [10, 11, 12, 13, 14]])"
      ]
     },
     "execution_count": 3,
     "metadata": {},
     "output_type": "execute_result"
    }
   ],
   "source": [
    "a = np.arange(N_LINES * N_COLUMNS).reshape(N_LINES, N_COLUMNS)\n",
    "a"
   ]
  },
  {
   "cell_type": "code",
   "execution_count": 4,
   "metadata": {
    "collapsed": true
   },
   "outputs": [],
   "source": [
    "def get_array_indexes(n_rows, n_columns):\n",
    "    for row in range(n_rows):\n",
    "        for column in range(n_columns):\n",
    "            yield row, column"
   ]
  },
  {
   "cell_type": "code",
   "execution_count": 5,
   "metadata": {
    "collapsed": false
   },
   "outputs": [],
   "source": [
    "for line, column in get_array_indexes(N_LINES, N_COLUMNS):\n",
    "    if a[line, column] == 6:\n",
    "        break\n",
    "    a[line, column] = -1"
   ]
  },
  {
   "cell_type": "code",
   "execution_count": 6,
   "metadata": {
    "collapsed": false
   },
   "outputs": [
    {
     "name": "stdout",
     "output_type": "stream",
     "text": [
      "[[-1 -1 -1 -1 -1]\n",
      " [-1  6  7  8  9]\n",
      " [10 11 12 13 14]]\n"
     ]
    }
   ],
   "source": [
    "print(a)"
   ]
  },
  {
   "cell_type": "markdown",
   "metadata": {},
   "source": [
    "I learned this technique from one of Raymond Hettinger's presentations.\n",
    "Thanks Raymond!"
   ]
  }
 ],
 "metadata": {
  "kernelspec": {
   "display_name": "Python 3",
   "language": "python",
   "name": "python3"
  },
  "language_info": {
   "codemirror_mode": {
    "name": "ipython",
    "version": 3
   },
   "file_extension": ".py",
   "mimetype": "text/x-python",
   "name": "python",
   "nbconvert_exporter": "python",
   "pygments_lexer": "ipython3",
   "version": "3.4.3"
  }
 },
 "nbformat": 4,
 "nbformat_minor": 0
}
