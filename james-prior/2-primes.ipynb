{
 "cells": [
  {
   "cell_type": "markdown",
   "metadata": {},
   "source": [
    "2. Write a generator function that generates prime numbers via the\n",
    "[Sieve of Eratosthenes](https://en.wikipedia.org/wiki/Sieve_of_Eratosthenes)."
   ]
  },
  {
   "cell_type": "code",
   "execution_count": 1,
   "metadata": {
    "collapsed": true
   },
   "outputs": [],
   "source": [
    "test_cases = (\n",
    "    (10, (2, 3, 5, 7)),\n",
    "    (11, (2, 3, 5, 7, 11)),\n",
    "    (12, (2, 3, 5, 7, 11)),\n",
    "    (13, (2, 3, 5, 7, 11, 13)),\n",
    ")\n",
    "\n",
    "def test():\n",
    "    for n, known_good_output in test_cases:\n",
    "        assert tuple(sorted(primes(n))) == known_good_output"
   ]
  },
  {
   "cell_type": "code",
   "execution_count": 2,
   "metadata": {
    "collapsed": true
   },
   "outputs": [],
   "source": [
    "n = 10**6"
   ]
  },
  {
   "cell_type": "code",
   "execution_count": 3,
   "metadata": {
    "collapsed": false
   },
   "outputs": [],
   "source": [
    "def primes(n):\n",
    "    '''Generates primes less than or equal to n.\n",
    "    \n",
    "    Uses Sieve of Eratosthenes.'''\n",
    "    n += 1\n",
    "    is_prime = [True for _ in range(n+1)]\n",
    "    for i in range(2, n):\n",
    "        if not is_prime[i]:\n",
    "            continue\n",
    "        # i is prime\n",
    "        yield i\n",
    "        for j in range(2*i, n, i):\n",
    "            is_prime[j] = False\n",
    "\n",
    "test()"
   ]
  },
  {
   "cell_type": "code",
   "execution_count": 4,
   "metadata": {
    "collapsed": false
   },
   "outputs": [
    {
     "name": "stdout",
     "output_type": "stream",
     "text": [
      "1 loop, best of 3: 549 ms per loop\n"
     ]
    },
    {
     "data": {
      "text/plain": [
       "78498"
      ]
     },
     "execution_count": 4,
     "metadata": {},
     "output_type": "execute_result"
    }
   ],
   "source": [
    "%timeit len(tuple(primes(n)))\n",
    "len(tuple(primes(n)))"
   ]
  },
  {
   "cell_type": "markdown",
   "metadata": {},
   "source": [
    "Next I try using a dictionary to hold the sieve. It is much slower than using a list."
   ]
  },
  {
   "cell_type": "code",
   "execution_count": 5,
   "metadata": {
    "collapsed": false
   },
   "outputs": [],
   "source": [
    "def primes(n):\n",
    "    '''Generates primes less than or equal to n.\n",
    "    \n",
    "    Uses Sieve of Eratosthenes.'''\n",
    "    n += 1\n",
    "    is_prime = {i:True for i in range(2, n)}\n",
    "    for i in range(2, n):\n",
    "        if not is_prime[i]:\n",
    "            continue\n",
    "        # i is prime\n",
    "        yield i\n",
    "        for j in range(2*i, n, i):\n",
    "            is_prime[j] = False\n",
    "\n",
    "test()"
   ]
  },
  {
   "cell_type": "code",
   "execution_count": 6,
   "metadata": {
    "collapsed": false,
    "scrolled": true
   },
   "outputs": [
    {
     "name": "stdout",
     "output_type": "stream",
     "text": [
      "1 loop, best of 3: 972 ms per loop\n"
     ]
    },
    {
     "data": {
      "text/plain": [
       "78498"
      ]
     },
     "execution_count": 6,
     "metadata": {},
     "output_type": "execute_result"
    }
   ],
   "source": [
    "%timeit len(tuple(primes(n)))\n",
    "len(tuple(primes(n)))"
   ]
  },
  {
   "cell_type": "markdown",
   "metadata": {},
   "source": [
    "Try another way using dictionaries.\n",
    "This way deletes values from the sieve after they will no longer be used.\n",
    "This is slower yet."
   ]
  },
  {
   "cell_type": "code",
   "execution_count": 7,
   "metadata": {
    "collapsed": false
   },
   "outputs": [],
   "source": [
    "def primes(n):\n",
    "    '''Generates primes less than or equal to n.\n",
    "    \n",
    "    Uses Sieve of Eratosthenes.'''\n",
    "    n += 1\n",
    "    is_prime = {i:True for i in range(2, n)}\n",
    "    for i in range(2, n):\n",
    "        if not is_prime[i]:\n",
    "            continue\n",
    "        # i is prime\n",
    "        yield i\n",
    "        for j in range(2*i, n, i):\n",
    "            is_prime[j] = False\n",
    "        del is_prime[i]\n",
    "\n",
    "test()"
   ]
  },
  {
   "cell_type": "code",
   "execution_count": 8,
   "metadata": {
    "collapsed": false
   },
   "outputs": [
    {
     "name": "stdout",
     "output_type": "stream",
     "text": [
      "1 loop, best of 3: 979 ms per loop\n"
     ]
    },
    {
     "data": {
      "text/plain": [
       "78498"
      ]
     },
     "execution_count": 8,
     "metadata": {},
     "output_type": "execute_result"
    }
   ],
   "source": [
    "%timeit len(tuple(primes(n)))\n",
    "len(tuple(primes(n)))"
   ]
  },
  {
   "cell_type": "markdown",
   "metadata": {},
   "source": [
    "Next I try a using a set to hold the sieve.\n",
    "The sieve only holds the numbers that are not prime.\n",
    "Since the prime numbers are not in the set,\n",
    "this technique might not be the classic sieve.\n",
    "It is still much slower than using a list."
   ]
  },
  {
   "cell_type": "code",
   "execution_count": 9,
   "metadata": {
    "collapsed": false
   },
   "outputs": [],
   "source": [
    "def primes(n):\n",
    "    '''Generates primes less than or equal to n.\n",
    "    \n",
    "    Uses Sieve of Eratosthenes.'''\n",
    "    n += 1\n",
    "    composites = set()\n",
    "    for i in range(2, n):\n",
    "        if i in composites:\n",
    "            continue\n",
    "        # i is prime\n",
    "        yield i\n",
    "        for j in range(2*i, n, i):\n",
    "            composites.add(j)\n",
    "\n",
    "test()"
   ]
  },
  {
   "cell_type": "code",
   "execution_count": 10,
   "metadata": {
    "collapsed": false
   },
   "outputs": [
    {
     "name": "stdout",
     "output_type": "stream",
     "text": [
      "1 loop, best of 3: 995 ms per loop\n"
     ]
    },
    {
     "data": {
      "text/plain": [
       "78498"
      ]
     },
     "execution_count": 10,
     "metadata": {},
     "output_type": "execute_result"
    }
   ],
   "source": [
    "%timeit len(tuple(primes(n)))\n",
    "len(tuple(primes(n)))"
   ]
  },
  {
   "cell_type": "markdown",
   "metadata": {},
   "source": [
    "This time I try lists again, with a modest optimization of not iterating over the even numbers greater than two. It is a little bit faster than iterating through all the numbers."
   ]
  },
  {
   "cell_type": "code",
   "execution_count": 11,
   "metadata": {
    "collapsed": false,
    "scrolled": false
   },
   "outputs": [],
   "source": [
    "from itertools import islice, count, chain\n",
    "\n",
    "# n = 20\n",
    "# list(chain([2], range(3, n+1, 2)))"
   ]
  },
  {
   "cell_type": "code",
   "execution_count": 12,
   "metadata": {
    "collapsed": false
   },
   "outputs": [],
   "source": [
    "def primes(n):\n",
    "    '''Generates primes less than or equal to n.\n",
    "    \n",
    "    Uses Sieve of Eratosthenes.'''\n",
    "    n += 1\n",
    "    is_prime = [True for _ in range(n)]\n",
    "    for i in chain([2], range(3, n, 2)):\n",
    "        if not is_prime[i]:\n",
    "            continue\n",
    "        # i is prime\n",
    "        yield i\n",
    "        for j in range(2*i, n, i):\n",
    "            is_prime[j] = False\n",
    "\n",
    "test()"
   ]
  },
  {
   "cell_type": "code",
   "execution_count": 13,
   "metadata": {
    "collapsed": false
   },
   "outputs": [
    {
     "name": "stdout",
     "output_type": "stream",
     "text": [
      "1 loop, best of 3: 515 ms per loop\n"
     ]
    },
    {
     "data": {
      "text/plain": [
       "78498"
      ]
     },
     "execution_count": 13,
     "metadata": {},
     "output_type": "execute_result"
    }
   ],
   "source": [
    "%timeit len(tuple(primes(n)))\n",
    "len(tuple(primes(n)))"
   ]
  }
 ],
 "metadata": {
  "kernelspec": {
   "display_name": "Python 3",
   "language": "python",
   "name": "python3"
  },
  "language_info": {
   "codemirror_mode": {
    "name": "ipython",
    "version": 3
   },
   "file_extension": ".py",
   "mimetype": "text/x-python",
   "name": "python",
   "nbconvert_exporter": "python",
   "pygments_lexer": "ipython3",
   "version": "3.4.3"
  }
 },
 "nbformat": 4,
 "nbformat_minor": 0
}
