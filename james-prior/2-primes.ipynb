{
 "cells": [
  {
   "cell_type": "markdown",
   "metadata": {},
   "source": [
    "2. Write a generator function that generates prime numbers via the\n",
    "[Sieve of Eratosthenes](https://en.wikipedia.org/wiki/Sieve_of_Eratosthenes)."
   ]
  },
  {
   "cell_type": "code",
   "execution_count": 1,
   "metadata": {
    "collapsed": true
   },
   "outputs": [],
   "source": [
    "test_cases = (\n",
    "    (10, (2, 3, 5, 7)),\n",
    "    (11, (2, 3, 5, 7, 11)),\n",
    "    (12, (2, 3, 5, 7, 11)),\n",
    "    (13, (2, 3, 5, 7, 11, 13)),\n",
    ")\n",
    "\n",
    "def test():\n",
    "    for n, known_good_output in test_cases:\n",
    "        assert tuple(sorted(primes(n))) == known_good_output"
   ]
  },
  {
   "cell_type": "code",
   "execution_count": 2,
   "metadata": {
    "collapsed": true
   },
   "outputs": [],
   "source": [
    "n = 10**6"
   ]
  },
  {
   "cell_type": "markdown",
   "metadata": {},
   "source": [
    "This cell and the three following cells were added\n",
    "during the 2016-06-27 COhPy meeting\n",
    "to show and discuss the extra indentation\n",
    "incurred by not using a continue statement."
   ]
  },
  {
   "cell_type": "code",
   "execution_count": 3,
   "metadata": {
    "collapsed": false
   },
   "outputs": [],
   "source": [
    "def primes(n):\n",
    "    '''Generates primes less than or equal to n.\n",
    "    \n",
    "    Uses Sieve of Eratosthenes.'''\n",
    "    n += 1\n",
    "    is_prime = [True for _ in range(n+1)]\n",
    "    for i in range(2, n):\n",
    "        if is_prime[i]:\n",
    "            yield i\n",
    "            for j in range(2*i, n, i):\n",
    "                is_prime[j] = False\n",
    "\n",
    "test()"
   ]
  },
  {
   "cell_type": "code",
   "execution_count": 4,
   "metadata": {
    "collapsed": false
   },
   "outputs": [
    {
     "name": "stdout",
     "output_type": "stream",
     "text": [
      "1 loop, best of 3: 546 ms per loop\n"
     ]
    },
    {
     "data": {
      "text/plain": [
       "78498"
      ]
     },
     "execution_count": 4,
     "metadata": {},
     "output_type": "execute_result"
    }
   ],
   "source": [
    "%timeit len(tuple(primes(n)))\n",
    "len(tuple(primes(n)))"
   ]
  },
  {
   "cell_type": "markdown",
   "metadata": {},
   "source": [
    "The following cell uses a continue statement\n",
    "to avoid indenting following code.\n",
    "Code that has nested tests often benefits\n",
    "by using continue statements."
   ]
  },
  {
   "cell_type": "code",
   "execution_count": 5,
   "metadata": {
    "collapsed": false
   },
   "outputs": [],
   "source": [
    "def primes(n):\n",
    "    '''Generates primes less than or equal to n.\n",
    "    \n",
    "    Uses Sieve of Eratosthenes.'''\n",
    "    n += 1\n",
    "    is_prime = [True for _ in range(n+1)]\n",
    "    for i in range(2, n):\n",
    "        if not is_prime[i]:\n",
    "            continue\n",
    "        # i is prime\n",
    "        yield i\n",
    "        for j in range(2*i, n, i):\n",
    "            is_prime[j] = False\n",
    "\n",
    "test()"
   ]
  },
  {
   "cell_type": "code",
   "execution_count": 6,
   "metadata": {
    "collapsed": false
   },
   "outputs": [
    {
     "name": "stdout",
     "output_type": "stream",
     "text": [
      "1 loop, best of 3: 563 ms per loop\n"
     ]
    },
    {
     "data": {
      "text/plain": [
       "78498"
      ]
     },
     "execution_count": 6,
     "metadata": {},
     "output_type": "execute_result"
    }
   ],
   "source": [
    "%timeit len(tuple(primes(n)))\n",
    "len(tuple(primes(n)))"
   ]
  },
  {
   "cell_type": "markdown",
   "metadata": {},
   "source": [
    "Next I try using a dictionary to hold the sieve. It is much slower than using a list."
   ]
  },
  {
   "cell_type": "code",
   "execution_count": 7,
   "metadata": {
    "collapsed": false
   },
   "outputs": [],
   "source": [
    "def primes(n):\n",
    "    '''Generates primes less than or equal to n.\n",
    "    \n",
    "    Uses Sieve of Eratosthenes.'''\n",
    "    n += 1\n",
    "    is_prime = {i:True for i in range(2, n)}\n",
    "    for i in range(2, n):\n",
    "        if not is_prime[i]:\n",
    "            continue\n",
    "        # i is prime\n",
    "        yield i\n",
    "        for j in range(2*i, n, i):\n",
    "            is_prime[j] = False\n",
    "\n",
    "test()"
   ]
  },
  {
   "cell_type": "code",
   "execution_count": 8,
   "metadata": {
    "collapsed": false,
    "scrolled": true
   },
   "outputs": [
    {
     "name": "stdout",
     "output_type": "stream",
     "text": [
      "1 loop, best of 3: 996 ms per loop\n"
     ]
    },
    {
     "data": {
      "text/plain": [
       "78498"
      ]
     },
     "execution_count": 8,
     "metadata": {},
     "output_type": "execute_result"
    }
   ],
   "source": [
    "%timeit len(tuple(primes(n)))\n",
    "len(tuple(primes(n)))"
   ]
  },
  {
   "cell_type": "markdown",
   "metadata": {},
   "source": [
    "Try another way using dictionaries.\n",
    "This way deletes values from the sieve after they will no longer be used.\n",
    "This is slower yet."
   ]
  },
  {
   "cell_type": "code",
   "execution_count": 9,
   "metadata": {
    "collapsed": false
   },
   "outputs": [],
   "source": [
    "def primes(n):\n",
    "    '''Generates primes less than or equal to n.\n",
    "    \n",
    "    Uses Sieve of Eratosthenes.'''\n",
    "    n += 1\n",
    "    is_prime = {i:True for i in range(2, n)}\n",
    "    for i in range(2, n):\n",
    "        if not is_prime[i]:\n",
    "            continue\n",
    "        # i is prime\n",
    "        yield i\n",
    "        for j in range(2*i, n, i):\n",
    "            is_prime[j] = False\n",
    "        del is_prime[i]\n",
    "\n",
    "test()"
   ]
  },
  {
   "cell_type": "code",
   "execution_count": 10,
   "metadata": {
    "collapsed": false
   },
   "outputs": [
    {
     "name": "stdout",
     "output_type": "stream",
     "text": [
      "1 loop, best of 3: 986 ms per loop\n"
     ]
    },
    {
     "data": {
      "text/plain": [
       "78498"
      ]
     },
     "execution_count": 10,
     "metadata": {},
     "output_type": "execute_result"
    }
   ],
   "source": [
    "%timeit len(tuple(primes(n)))\n",
    "len(tuple(primes(n)))"
   ]
  },
  {
   "cell_type": "markdown",
   "metadata": {},
   "source": [
    "Next I try a using a set to hold the sieve.\n",
    "The sieve only holds the numbers that are not prime.\n",
    "Since the prime numbers are not in the set,\n",
    "this technique might not be the classic sieve.\n",
    "It is still much slower than using a list."
   ]
  },
  {
   "cell_type": "code",
   "execution_count": 11,
   "metadata": {
    "collapsed": false
   },
   "outputs": [],
   "source": [
    "def primes(n):\n",
    "    '''Generates primes less than or equal to n.\n",
    "    \n",
    "    Uses Sieve of Eratosthenes.'''\n",
    "    n += 1\n",
    "    composites = set()\n",
    "    for i in range(2, n):\n",
    "        if i in composites:\n",
    "            continue\n",
    "        # i is prime\n",
    "        yield i\n",
    "        for j in range(2*i, n, i):\n",
    "            composites.add(j)\n",
    "\n",
    "test()"
   ]
  },
  {
   "cell_type": "code",
   "execution_count": 12,
   "metadata": {
    "collapsed": false
   },
   "outputs": [
    {
     "name": "stdout",
     "output_type": "stream",
     "text": [
      "1 loop, best of 3: 951 ms per loop\n"
     ]
    },
    {
     "data": {
      "text/plain": [
       "78498"
      ]
     },
     "execution_count": 12,
     "metadata": {},
     "output_type": "execute_result"
    }
   ],
   "source": [
    "%timeit len(tuple(primes(n)))\n",
    "len(tuple(primes(n)))"
   ]
  },
  {
   "cell_type": "markdown",
   "metadata": {},
   "source": [
    "This time I try lists again, with a modest optimization of not iterating over the even numbers greater than two. It is a little bit faster than iterating through all the numbers."
   ]
  },
  {
   "cell_type": "code",
   "execution_count": 13,
   "metadata": {
    "collapsed": false,
    "scrolled": false
   },
   "outputs": [],
   "source": [
    "from itertools import islice, count, chain\n",
    "\n",
    "# n = 20\n",
    "# list(chain([2], range(3, n+1, 2)))"
   ]
  },
  {
   "cell_type": "code",
   "execution_count": 14,
   "metadata": {
    "collapsed": false
   },
   "outputs": [],
   "source": [
    "def primes(n):\n",
    "    '''Generates primes less than or equal to n.\n",
    "    \n",
    "    Uses Sieve of Eratosthenes.'''\n",
    "    n += 1\n",
    "    is_prime = [True for _ in range(n)]\n",
    "    for i in chain([2], range(3, n, 2)):\n",
    "        if not is_prime[i]:\n",
    "            continue\n",
    "        # i is prime\n",
    "        yield i\n",
    "        for j in range(2*i, n, i):\n",
    "            is_prime[j] = False\n",
    "\n",
    "test()"
   ]
  },
  {
   "cell_type": "code",
   "execution_count": 15,
   "metadata": {
    "collapsed": false
   },
   "outputs": [
    {
     "name": "stdout",
     "output_type": "stream",
     "text": [
      "1 loop, best of 3: 501 ms per loop\n"
     ]
    },
    {
     "data": {
      "text/plain": [
       "78498"
      ]
     },
     "execution_count": 15,
     "metadata": {},
     "output_type": "execute_result"
    }
   ],
   "source": [
    "%timeit len(tuple(primes(n)))\n",
    "len(tuple(primes(n)))"
   ]
  },
  {
   "cell_type": "markdown",
   "metadata": {},
   "source": [
    "Added after 2016-06-27: \n",
    "\n",
    "Andrew Kubera's code uses square root optimization.\n",
    "I normally use square root optimization for\n",
    "prime number calculations, so I was surprised\n",
    "that it worked with SoE, and surprised that I was surprised.\n",
    "Of course it works.\n",
    "So I add it, first to the simple range(2, n) version,\n",
    "then to the chain([2], range(3, n, 2)) version."
   ]
  },
  {
   "cell_type": "code",
   "execution_count": 16,
   "metadata": {
    "collapsed": true
   },
   "outputs": [],
   "source": [
    "from math import sqrt, floor"
   ]
  },
  {
   "cell_type": "code",
   "execution_count": 17,
   "metadata": {
    "collapsed": false
   },
   "outputs": [],
   "source": [
    "def primes(n):\n",
    "    '''Generates primes less than or equal to n.\n",
    "    \n",
    "    Uses Sieve of Eratosthenes.'''\n",
    "    n += 1\n",
    "    is_prime = [True for _ in range(n+1)]\n",
    "    stop = int(floor(sqrt(n))) + 1\n",
    "    for i in range(2, stop):\n",
    "        if is_prime[i]:\n",
    "            yield i\n",
    "            for j in range(2*i, n, i):\n",
    "                is_prime[j] = False\n",
    "\n",
    "    for i in range(stop, n):\n",
    "        if is_prime[i]:\n",
    "            yield i\n",
    "\n",
    "test()"
   ]
  },
  {
   "cell_type": "code",
   "execution_count": 18,
   "metadata": {
    "collapsed": false
   },
   "outputs": [
    {
     "name": "stdout",
     "output_type": "stream",
     "text": [
      "1 loop, best of 3: 398 ms per loop\n"
     ]
    },
    {
     "data": {
      "text/plain": [
       "78498"
      ]
     },
     "execution_count": 18,
     "metadata": {},
     "output_type": "execute_result"
    }
   ],
   "source": [
    "%timeit len(tuple(primes(n)))\n",
    "len(tuple(primes(n)))"
   ]
  },
  {
   "cell_type": "code",
   "execution_count": 19,
   "metadata": {
    "collapsed": false
   },
   "outputs": [],
   "source": [
    "def primes(n):\n",
    "    '''Generates primes less than or equal to n.\n",
    "    \n",
    "    Uses Sieve of Eratosthenes.'''\n",
    "    n += 1\n",
    "    is_prime = [True for _ in range(n)]\n",
    "    stop = int(floor(sqrt(n))) + 1\n",
    "    for i in chain([2], range(3, stop, 2)):\n",
    "        if not is_prime[i]:\n",
    "            continue\n",
    "        # i is prime\n",
    "        yield i\n",
    "        for j in range(2*i, n, i):\n",
    "            is_prime[j] = False\n",
    "\n",
    "    for i in range(stop, n):\n",
    "        if is_prime[i]:\n",
    "            yield i\n",
    "\n",
    "test()"
   ]
  },
  {
   "cell_type": "code",
   "execution_count": 20,
   "metadata": {
    "collapsed": false
   },
   "outputs": [
    {
     "name": "stdout",
     "output_type": "stream",
     "text": [
      "1 loop, best of 3: 397 ms per loop\n"
     ]
    },
    {
     "data": {
      "text/plain": [
       "78498"
      ]
     },
     "execution_count": 20,
     "metadata": {},
     "output_type": "execute_result"
    }
   ],
   "source": [
    "%timeit len(tuple(primes(n)))\n",
    "len(tuple(primes(n)))"
   ]
  },
  {
   "cell_type": "markdown",
   "metadata": {},
   "source": [
    "Now to try to play with some functional stuff.\n",
    "\n",
    "First try a generator expression (maybe not very functional)."
   ]
  },
  {
   "cell_type": "code",
   "execution_count": 21,
   "metadata": {
    "collapsed": false
   },
   "outputs": [],
   "source": [
    "def primes(n):\n",
    "    '''Generates primes less than or equal to n.\n",
    "    \n",
    "    Uses Sieve of Eratosthenes.'''\n",
    "    n += 1\n",
    "    is_prime = [True for _ in range(n+1)]\n",
    "    stop = int(floor(sqrt(n))) + 1\n",
    "    for i in range(2, stop):\n",
    "        if is_prime[i]:\n",
    "            yield i\n",
    "            for j in range(2*i, n, i):\n",
    "                is_prime[j] = False\n",
    "\n",
    "    yield from (i for i in range(stop, n) if is_prime[i])\n",
    "\n",
    "test()"
   ]
  },
  {
   "cell_type": "code",
   "execution_count": 22,
   "metadata": {
    "collapsed": false
   },
   "outputs": [
    {
     "name": "stdout",
     "output_type": "stream",
     "text": [
      "1 loop, best of 3: 414 ms per loop\n"
     ]
    },
    {
     "data": {
      "text/plain": [
       "78498"
      ]
     },
     "execution_count": 22,
     "metadata": {},
     "output_type": "execute_result"
    }
   ],
   "source": [
    "%timeit len(tuple(primes(n)))\n",
    "len(tuple(primes(n)))"
   ]
  },
  {
   "cell_type": "code",
   "execution_count": 23,
   "metadata": {
    "collapsed": false
   },
   "outputs": [],
   "source": [
    "def primes(n):\n",
    "    '''Generates primes less than or equal to n.\n",
    "    \n",
    "    Uses Sieve of Eratosthenes.'''\n",
    "    n += 1\n",
    "    is_prime = [True for _ in range(n+1)]\n",
    "    stop = int(floor(sqrt(n))) + 1\n",
    "    for i in range(2, stop):\n",
    "        if is_prime[i]:\n",
    "            yield i\n",
    "            for j in range(2*i, n, i):\n",
    "                is_prime[j] = False\n",
    "\n",
    "    # .__getitem__ is from Kubera.\n",
    "    yield from filter(is_prime.__getitem__, range(stop, n))\n",
    "\n",
    "test()"
   ]
  },
  {
   "cell_type": "code",
   "execution_count": 24,
   "metadata": {
    "collapsed": false
   },
   "outputs": [
    {
     "name": "stdout",
     "output_type": "stream",
     "text": [
      "1 loop, best of 3: 405 ms per loop\n"
     ]
    },
    {
     "data": {
      "text/plain": [
       "78498"
      ]
     },
     "execution_count": 24,
     "metadata": {},
     "output_type": "execute_result"
    }
   ],
   "source": [
    "%timeit len(tuple(primes(n)))\n",
    "len(tuple(primes(n)))"
   ]
  },
  {
   "cell_type": "markdown",
   "metadata": {},
   "source": [
    "Looks like cell #17 was the best for speed and readability."
   ]
  }
 ],
 "metadata": {
  "kernelspec": {
   "display_name": "Python 3",
   "language": "python",
   "name": "python3"
  },
  "language_info": {
   "codemirror_mode": {
    "name": "ipython",
    "version": 3
   },
   "file_extension": ".py",
   "mimetype": "text/x-python",
   "name": "python",
   "nbconvert_exporter": "python",
   "pygments_lexer": "ipython3",
   "version": "3.4.3"
  }
 },
 "nbformat": 4,
 "nbformat_minor": 0
}
