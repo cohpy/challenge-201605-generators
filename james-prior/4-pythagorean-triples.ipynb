{
 "cells": [
  {
   "cell_type": "markdown",
   "metadata": {},
   "source": [
    "4. Write a generator function that generates all\n",
    "[Pythagorean Triples](https://en.wikipedia.org/wiki/Pythagorean_triple)\n",
    "starting with (3,4,5)."
   ]
  },
  {
   "cell_type": "code",
   "execution_count": 1,
   "metadata": {
    "collapsed": true
   },
   "outputs": [],
   "source": [
    "from itertools import count, islice\n",
    "from math import sqrt\n",
    "from functools import reduce"
   ]
  },
  {
   "cell_type": "code",
   "execution_count": 2,
   "metadata": {
    "collapsed": true
   },
   "outputs": [],
   "source": [
    "# The Pythagorean triples with c <= 100.\n",
    "test_cases = (\n",
    "    (3, 4, 5),\n",
    "    (5, 12, 13),\n",
    "    (8, 15, 17),\n",
    "    (7, 24, 25),\n",
    "    (20, 21, 29),\n",
    "    (12, 35, 37),\n",
    "    (9, 40, 41),\n",
    "    (28, 45, 53),\n",
    "    (11, 60, 61),\n",
    "    (16, 63, 65),\n",
    "    (33, 56, 65),\n",
    "    (48, 55, 73),\n",
    "    (13, 84, 85),\n",
    "    (36, 77, 85),\n",
    "    (39, 80, 89),\n",
    "    (65, 72, 97),\n",
    ")\n",
    "\n",
    "def test():\n",
    "    for known_good, unknown in zip(test_cases, pythagorean_triples()):\n",
    "        assert known_good == unknown"
   ]
  },
  {
   "cell_type": "code",
   "execution_count": 3,
   "metadata": {
    "collapsed": true
   },
   "outputs": [],
   "source": [
    "def gcd(a, b):\n",
    "    while True:\n",
    "        remainder = a % b\n",
    "        if remainder == 0:\n",
    "            return b\n",
    "        a, b = b, remainder"
   ]
  },
  {
   "cell_type": "code",
   "execution_count": 4,
   "metadata": {
    "collapsed": true
   },
   "outputs": [],
   "source": [
    "def gcd(a, b):\n",
    "    while True:\n",
    "        a, b = b, a % b\n",
    "        if b == 0:\n",
    "            return a"
   ]
  },
  {
   "cell_type": "code",
   "execution_count": 5,
   "metadata": {
    "collapsed": true
   },
   "outputs": [],
   "source": [
    "def gcd(a, b):\n",
    "    while True:\n",
    "        c = a % b\n",
    "        if c == 0:\n",
    "            return b\n",
    "        a = b % c\n",
    "        if a == 0:\n",
    "            return c\n",
    "        b = c % a\n",
    "        if b == 0:\n",
    "            return a\n"
   ]
  },
  {
   "cell_type": "code",
   "execution_count": 6,
   "metadata": {
    "collapsed": false
   },
   "outputs": [],
   "source": [
    "def pythagorean_triples():\n",
    "    for c in count():\n",
    "        c_squared = c * c\n",
    "        for a in range(1, c):\n",
    "            a_squared = a*a\n",
    "            b_squared = c_squared - a_squared\n",
    "            if a_squared > b_squared:\n",
    "                break\n",
    "            b = int(sqrt(b_squared))\n",
    "            if a_squared + b*b == c_squared and reduce(gcd, (a, b, c)) == 1:\n",
    "                yield a, b, c\n",
    "\n",
    "test()"
   ]
  },
  {
   "cell_type": "code",
   "execution_count": 7,
   "metadata": {
    "collapsed": false
   },
   "outputs": [
    {
     "data": {
      "text/plain": [
       "[(3, 4, 5),\n",
       " (5, 12, 13),\n",
       " (8, 15, 17),\n",
       " (7, 24, 25),\n",
       " (20, 21, 29),\n",
       " (12, 35, 37),\n",
       " (9, 40, 41),\n",
       " (28, 45, 53),\n",
       " (11, 60, 61),\n",
       " (16, 63, 65),\n",
       " (33, 56, 65),\n",
       " (48, 55, 73),\n",
       " (13, 84, 85),\n",
       " (36, 77, 85),\n",
       " (39, 80, 89),\n",
       " (65, 72, 97)]"
      ]
     },
     "execution_count": 7,
     "metadata": {},
     "output_type": "execute_result"
    }
   ],
   "source": [
    "\n",
    "list(islice(pythagorean_triples(), 16))"
   ]
  }
 ],
 "metadata": {
  "kernelspec": {
   "display_name": "Python 3",
   "language": "python",
   "name": "python3"
  },
  "language_info": {
   "codemirror_mode": {
    "name": "ipython",
    "version": 3
   },
   "file_extension": ".py",
   "mimetype": "text/x-python",
   "name": "python",
   "nbconvert_exporter": "python",
   "pygments_lexer": "ipython3",
   "version": "3.4.3"
  }
 },
 "nbformat": 4,
 "nbformat_minor": 0
}
