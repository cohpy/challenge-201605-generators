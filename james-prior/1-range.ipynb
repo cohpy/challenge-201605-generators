{
 "cells": [
  {
   "cell_type": "markdown",
   "metadata": {},
   "source": [
    "1. Write a generator function that implements the\n",
    "[Python range function](https://docs.python.org/3/library/functions.html#func-range)\n",
    "(without using range()). "
   ]
  },
  {
   "cell_type": "markdown",
   "metadata": {},
   "source": [
    "---\n",
    "The more interesting thing is how to parse the arguments. The loop itself is not very interesting although it would be nice to avoid the if statement."
   ]
  },
  {
   "cell_type": "code",
   "execution_count": 1,
   "metadata": {
    "collapsed": false
   },
   "outputs": [],
   "source": [
    "# help(range)"
   ]
  },
  {
   "cell_type": "code",
   "execution_count": 2,
   "metadata": {
    "collapsed": true
   },
   "outputs": [],
   "source": [
    "test_cases = (\n",
    "    (-1,),\n",
    "    (0,),\n",
    "    (1,),\n",
    "    (3,),\n",
    "    (0, 3),\n",
    "    (-2, 1),\n",
    "    (0, 0),\n",
    "    (0, -1),\n",
    "    (2, 6, 2),\n",
    "    (2, 7, 2),\n",
    "    (2, -1, -2),\n",
    "    (2, -2, -2),\n",
    ")\n",
    "\n",
    "def test():\n",
    "    for args in test_cases:\n",
    "        assert tuple(range(*args)) == tuple(grange(*args)), (\n",
    "            args, tuple(range(*args)), tuple(grange(*args)))"
   ]
  },
  {
   "cell_type": "markdown",
   "metadata": {},
   "source": [
    "The following generator works, but the nested try/excepts are ugly."
   ]
  },
  {
   "cell_type": "code",
   "execution_count": 3,
   "metadata": {
    "collapsed": false
   },
   "outputs": [],
   "source": [
    "def grange(*args):\n",
    "    start = 0\n",
    "    step = 1\n",
    "    \n",
    "    try:\n",
    "        stop, = args\n",
    "    except ValueError:\n",
    "        try:\n",
    "            start, stop = args\n",
    "        except ValueError:\n",
    "            try:\n",
    "                start, stop, step = args\n",
    "            except ValueError as e:\n",
    "                raise Exception(e, 'wrong number of arguments')\n",
    "    assert step != 0, 'arg 3 must not be zero'\n",
    "\n",
    "    i = start\n",
    "    if step > 0:\n",
    "        while i < stop:\n",
    "            yield i\n",
    "            i += step\n",
    "    else:\n",
    "        while i > stop:\n",
    "            yield i\n",
    "            i += step\n",
    "\n",
    "test()"
   ]
  },
  {
   "cell_type": "code",
   "execution_count": 4,
   "metadata": {
    "collapsed": false
   },
   "outputs": [
    {
     "data": {
      "text/plain": [
       "(0, 1, 2)"
      ]
     },
     "execution_count": 4,
     "metadata": {},
     "output_type": "execute_result"
    }
   ],
   "source": [
    "tuple(grange(3))"
   ]
  },
  {
   "cell_type": "markdown",
   "metadata": {},
   "source": [
    "Next I try to avoid the nested try/except statements a dictionary of argument parsers, using the number of arguments as the key."
   ]
  },
  {
   "cell_type": "code",
   "execution_count": 5,
   "metadata": {
    "collapsed": false
   },
   "outputs": [],
   "source": [
    "def grange(*args):\n",
    "    def complain_about_wrong_number_of_args(*args):\n",
    "        raise Exception(ValueError, 'wrong number of arguments')\n",
    "\n",
    "    def range_args_from_one_arg(*args):\n",
    "        start = 0\n",
    "        stop, = args\n",
    "        step = 1\n",
    "        return start, stop, step\n",
    "\n",
    "    def range_args_from_two_args(*args):\n",
    "        start, stop, = args\n",
    "        step = 1\n",
    "        return start, stop, step\n",
    "\n",
    "    def range_args_from_three_args(*args):\n",
    "        return args\n",
    "\n",
    "    arg_parsers = {\n",
    "        1: range_args_from_one_arg,\n",
    "        2: range_args_from_two_args,\n",
    "        3: range_args_from_three_args,\n",
    "    }\n",
    "\n",
    "    arg_parser = arg_parsers.get(len(args), complain_about_wrong_number_of_args)\n",
    "    start, stop, step = arg_parser(*args)\n",
    "\n",
    "    assert step != 0, 'arg 3 must not be zero'\n",
    "\n",
    "    i = start\n",
    "    if step > 0:\n",
    "        while i < stop:\n",
    "            yield i\n",
    "            i += step\n",
    "    else:\n",
    "        while i > stop:\n",
    "            yield i\n",
    "            i += step\n",
    "\n",
    "test()"
   ]
  },
  {
   "cell_type": "markdown",
   "metadata": {},
   "source": [
    "Using the arg_parsers dictionary is easy to understand and\n",
    "got rid of the ugly next try/excepts, but the code got so much bigger, \n",
    "that it is not pretty.\n",
    "\n",
    "So I try parsing with boring if/elif/else structure."
   ]
  },
  {
   "cell_type": "code",
   "execution_count": 6,
   "metadata": {
    "collapsed": false
   },
   "outputs": [],
   "source": [
    "def grange(*args):\n",
    "    start = 0\n",
    "    step = 1\n",
    "\n",
    "    if len(args) == 1:\n",
    "        stop, = args\n",
    "    elif len(args) == 2:\n",
    "        start, stop = args\n",
    "    elif len(args) == 3:\n",
    "        start, stop, step = args\n",
    "    else:\n",
    "        raise Exception(ValueError, 'wrong number of arguments')\n",
    "    assert step != 0, 'arg 3 must not be zero'\n",
    "\n",
    "    i = start\n",
    "    if step > 0:\n",
    "        while i < stop:\n",
    "            yield i\n",
    "            i += step\n",
    "    else:\n",
    "        while i > stop:\n",
    "            yield i\n",
    "            i += step\n",
    "\n",
    "test()"
   ]
  },
  {
   "cell_type": "markdown",
   "metadata": {},
   "source": [
    "The if/elif/else structure is much more readable and just a little bit ugly. That's as good as I know how to make it.\n",
    "\n",
    "I would like to have only one loop at the bottom. I have done that kind of thing in the past. It's usually ugly. I will do it just to show how ugly it is."
   ]
  },
  {
   "cell_type": "code",
   "execution_count": 7,
   "metadata": {
    "collapsed": true
   },
   "outputs": [],
   "source": [
    "from operator import lt, gt\n",
    "\n",
    "def grange(*args):\n",
    "    start = 0\n",
    "    step = 1\n",
    "\n",
    "    if len(args) == 1:\n",
    "        stop, = args\n",
    "    elif len(args) == 2:\n",
    "        start, stop = args\n",
    "    elif len(args) == 3:\n",
    "        start, stop, step = args\n",
    "    else:\n",
    "        raise Exception(ValueError, 'wrong number of arguments')\n",
    "    assert step != 0, 'arg 3 must not be zero'\n",
    "\n",
    "    i = start\n",
    "    compare = lt if step > 0 else gt\n",
    "    while compare(i, stop):\n",
    "        yield i\n",
    "        i += step\n",
    "\n",
    "test()"
   ]
  }
 ],
 "metadata": {
  "kernelspec": {
   "display_name": "Python 3",
   "language": "python",
   "name": "python3"
  },
  "language_info": {
   "codemirror_mode": {
    "name": "ipython",
    "version": 3
   },
   "file_extension": ".py",
   "mimetype": "text/x-python",
   "name": "python",
   "nbconvert_exporter": "python",
   "pygments_lexer": "ipython3",
   "version": "3.4.3"
  }
 },
 "nbformat": 4,
 "nbformat_minor": 0
}
