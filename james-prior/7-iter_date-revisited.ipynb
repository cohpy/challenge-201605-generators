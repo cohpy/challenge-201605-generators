{
 "cells": [
  {
   "cell_type": "markdown",
   "metadata": {},
   "source": [
    "This notebook revisits the iter_date() generator function from\n",
    "challenge-201605-generators/james-prior/5-dojo-20160429-2016-Mar-COhPy_Challenge_Rough-20160625-1612.ipynb."
   ]
  },
  {
   "cell_type": "code",
   "execution_count": 1,
   "metadata": {
    "collapsed": true
   },
   "outputs": [],
   "source": [
    "import datetime"
   ]
  },
  {
   "cell_type": "markdown",
   "metadata": {},
   "source": [
    "iter_date() is flexible. I can give it any starting date and any increment. The increment of 1 day is just a default."
   ]
  },
  {
   "cell_type": "code",
   "execution_count": 2,
   "metadata": {
    "collapsed": false
   },
   "outputs": [],
   "source": [
    "def iter_date(date, increment=datetime.timedelta(days=1)):\n",
    "    while True:\n",
    "        yield date\n",
    "        date += increment"
   ]
  },
  {
   "cell_type": "code",
   "execution_count": 3,
   "metadata": {
    "collapsed": false
   },
   "outputs": [
    {
     "data": {
      "text/plain": [
       "datetime.date(2016, 2, 27)"
      ]
     },
     "execution_count": 3,
     "metadata": {},
     "output_type": "execute_result"
    }
   ],
   "source": [
    "n = 5\n",
    "start_date = datetime.date(2016, 2, 27)\n",
    "date_increment = datetime.timedelta(days=1)\n",
    "start_date"
   ]
  },
  {
   "cell_type": "code",
   "execution_count": 4,
   "metadata": {
    "collapsed": false
   },
   "outputs": [],
   "source": [
    "from itertools import islice"
   ]
  },
  {
   "cell_type": "markdown",
   "metadata": {},
   "source": [
    "The following cell shows a normal use of iter_date(). Notice that it understands wrapping from the end of one month to the beginning of the next month. That is handled by the datetime library."
   ]
  },
  {
   "cell_type": "code",
   "execution_count": 5,
   "metadata": {
    "collapsed": false
   },
   "outputs": [
    {
     "data": {
      "text/plain": [
       "[datetime.date(2016, 2, 27),\n",
       " datetime.date(2016, 2, 28),\n",
       " datetime.date(2016, 2, 29),\n",
       " datetime.date(2016, 3, 1),\n",
       " datetime.date(2016, 3, 2)]"
      ]
     },
     "execution_count": 5,
     "metadata": {},
     "output_type": "execute_result"
    }
   ],
   "source": [
    "list(islice(iter_date(start_date), n))"
   ]
  },
  {
   "cell_type": "markdown",
   "metadata": {},
   "source": [
    "The following cell shows a negative increment that backs up to a previous year."
   ]
  },
  {
   "cell_type": "code",
   "execution_count": 6,
   "metadata": {
    "collapsed": false
   },
   "outputs": [
    {
     "data": {
      "text/plain": [
       "[datetime.date(2016, 2, 27),\n",
       " datetime.date(2016, 2, 20),\n",
       " datetime.date(2016, 2, 13),\n",
       " datetime.date(2016, 2, 6),\n",
       " datetime.date(2016, 1, 30),\n",
       " datetime.date(2016, 1, 23),\n",
       " datetime.date(2016, 1, 16),\n",
       " datetime.date(2016, 1, 9),\n",
       " datetime.date(2016, 1, 2),\n",
       " datetime.date(2015, 12, 26)]"
      ]
     },
     "execution_count": 6,
     "metadata": {},
     "output_type": "execute_result"
    }
   ],
   "source": [
    "list(islice(iter_date(start_date, datetime.timedelta(days=-7)), n*2))"
   ]
  },
  {
   "cell_type": "markdown",
   "metadata": {},
   "source": [
    "iter_date() works with any date and increment value that are compatible with the + operator.\n",
    "The next two cells show it being used with strings and numbers."
   ]
  },
  {
   "cell_type": "code",
   "execution_count": 7,
   "metadata": {
    "collapsed": false
   },
   "outputs": [
    {
     "data": {
      "text/plain": [
       "['a one',\n",
       " 'a one anna two',\n",
       " 'a one anna two anna two',\n",
       " 'a one anna two anna two anna two',\n",
       " 'a one anna two anna two anna two anna two']"
      ]
     },
     "execution_count": 7,
     "metadata": {},
     "output_type": "execute_result"
    }
   ],
   "source": [
    "list(islice(iter_date('a one', ' anna two'), n))"
   ]
  },
  {
   "cell_type": "code",
   "execution_count": 8,
   "metadata": {
    "collapsed": false
   },
   "outputs": [
    {
     "data": {
      "text/plain": [
       "[1, 3, 5, 7, 9]"
      ]
     },
     "execution_count": 8,
     "metadata": {},
     "output_type": "execute_result"
    }
   ],
   "source": [
    "list(islice(iter_date(1, 2), n))"
   ]
  },
  {
   "cell_type": "markdown",
   "metadata": {},
   "source": [
    "iter_date() is so simple and could be used so broadly,\n",
    "it looks like I am reinventing the wheel.\n",
    "So I look for a way of doing it with\n",
    "[The Python Standard Library](https://docs.python.org/3/library/).\n",
    "I found generators from\n",
    "[itertools](https://docs.python.org/3/library/itertools.html) that help."
   ]
  },
  {
   "cell_type": "code",
   "execution_count": 9,
   "metadata": {
    "collapsed": false
   },
   "outputs": [],
   "source": [
    "import datetime\n",
    "from itertools import accumulate, repeat, chain"
   ]
  },
  {
   "cell_type": "code",
   "execution_count": 10,
   "metadata": {
    "collapsed": false,
    "scrolled": true
   },
   "outputs": [
    {
     "data": {
      "text/plain": [
       "['a one',\n",
       " 'a one anna two',\n",
       " 'a one anna two anna two',\n",
       " 'a one anna two anna two anna two',\n",
       " 'a one anna two anna two anna two anna two']"
      ]
     },
     "execution_count": 10,
     "metadata": {},
     "output_type": "execute_result"
    }
   ],
   "source": [
    "list(accumulate(islice(chain.from_iterable([['a one'], repeat(' anna two')]), n)))"
   ]
  },
  {
   "cell_type": "code",
   "execution_count": 11,
   "metadata": {
    "collapsed": false,
    "scrolled": true
   },
   "outputs": [
    {
     "data": {
      "text/plain": [
       "[1, 3, 5, 7, 9]"
      ]
     },
     "execution_count": 11,
     "metadata": {},
     "output_type": "execute_result"
    }
   ],
   "source": [
    "list(accumulate(islice(chain.from_iterable([[1], repeat(2)]), n)))"
   ]
  },
  {
   "cell_type": "code",
   "execution_count": 12,
   "metadata": {
    "collapsed": false
   },
   "outputs": [
    {
     "data": {
      "text/plain": [
       "[datetime.date(2016, 2, 27),\n",
       " datetime.date(2016, 2, 28),\n",
       " datetime.date(2016, 2, 29),\n",
       " datetime.date(2016, 3, 1),\n",
       " datetime.date(2016, 3, 2)]"
      ]
     },
     "execution_count": 12,
     "metadata": {},
     "output_type": "execute_result"
    }
   ],
   "source": [
    "list(accumulate(islice(chain.from_iterable([[start_date], repeat(date_increment)]), n)))"
   ]
  },
  {
   "cell_type": "markdown",
   "metadata": {},
   "source": [
    "Where one puts islice() affects how much total output there is.\n",
    "The following cell makes n+1 dates."
   ]
  },
  {
   "cell_type": "code",
   "execution_count": 13,
   "metadata": {
    "collapsed": false
   },
   "outputs": [
    {
     "data": {
      "text/plain": [
       "[datetime.date(2016, 2, 27),\n",
       " datetime.date(2016, 2, 28),\n",
       " datetime.date(2016, 2, 29),\n",
       " datetime.date(2016, 3, 1),\n",
       " datetime.date(2016, 3, 2),\n",
       " datetime.date(2016, 3, 3)]"
      ]
     },
     "execution_count": 13,
     "metadata": {},
     "output_type": "execute_result"
    }
   ],
   "source": [
    "list(accumulate(chain.from_iterable([[start_date], islice(repeat(date_increment), n)])))"
   ]
  },
  {
   "cell_type": "markdown",
   "metadata": {},
   "source": [
    "The\n",
    "\n",
    "    accumulate(islice(chain.from_iterable([[start], repeat(increment)]), n))\n",
    "    \n",
    "stuff works without writing any of my own generators, but it is ugly. It is hard to read.\n",
    "From the [Zen of Python](https://www.python.org/dev/peps/pep-0020/):\n",
    "\n",
    "    Readability counts.\n",
    "\n",
    "I look at my iter_date generator again below.\n",
    "It is easy to read.\n",
    "It does not hurt my brain.\n",
    "So I use it, even though I have reinvented the wheel.\n",
    "Maybe it is OK to reinvent the wheel.\n",
    "\n",
    "    def iter_date(date, increment=datetime.timedelta(days=1)):\n",
    "        while True:\n",
    "            yield date;\n",
    "            date += increment\n",
    "            \n",
    "Should choose names that are more generic than iter_date and date?\n",
    "Even though the code in iter_date() can be used broadly,\n",
    "I do not use it broadly. \n",
    "The iter_date and date names serve as implicit documentation,\n",
    "making the code easy to read and understand.\n",
    "From the [Zen of Python](https://www.python.org/dev/peps/pep-0020/):\n",
    "\n",
    "    Readability counts.\n",
    "\n",
    "So I have come full circle. I considered not writing iter_date() at all\n",
    "since it was kind of reinventing the wheel,\n",
    "then considered renaming its names\n",
    "since it could be applied much more broadly than just iterating through dates,\n",
    "then realized that iter_date() is good just as it is."
   ]
  }
 ],
 "metadata": {
  "kernelspec": {
   "display_name": "Python 3",
   "language": "python",
   "name": "python3"
  },
  "language_info": {
   "codemirror_mode": {
    "name": "ipython",
    "version": 3
   },
   "file_extension": ".py",
   "mimetype": "text/x-python",
   "name": "python",
   "nbconvert_exporter": "python",
   "pygments_lexer": "ipython3",
   "version": "3.4.3"
  }
 },
 "nbformat": 4,
 "nbformat_minor": 0
}
