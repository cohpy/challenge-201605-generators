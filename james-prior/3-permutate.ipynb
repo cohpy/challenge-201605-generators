{
 "cells": [
  {
   "cell_type": "markdown",
   "metadata": {},
   "source": [
    "3. Write a generator function that given a string, generates all [permutations](https://en.wikipedia.org/wiki/Permutation) of that string. "
   ]
  },
  {
   "cell_type": "markdown",
   "metadata": {},
   "source": [
    "---\n",
    "This generator is interesting for calling itself [recursively](https://en.wikipedia.org/wiki/Recursion).\n",
    "\n",
    "The first time you come across recursion, it blows your mind, then you have an epiphany of the power of the technique. It makes some problems easy to code, as here.\n",
    "[Lars](http://pyvideo.org/speaker/k-lars-lohn.html) had [two epiphanies when he was 19. One of them was recursion](http://pyvideo.org/pyohio-2015/the-well-tempered-api.html)."
   ]
  },
  {
   "cell_type": "code",
   "execution_count": 1,
   "metadata": {
    "collapsed": true
   },
   "outputs": [],
   "source": [
    "def exercise(permuter):\n",
    "    exercise_input = (\n",
    "        '',\n",
    "        'RGB',\n",
    "        ('bat', 'cat', 'dog'),\n",
    "        (),\n",
    "        (2,),\n",
    "        (2, 3, 5),\n",
    "        ((2,), (3,), (5,)),\n",
    "        [],\n",
    "        [2],\n",
    "        [2, 3, 5],\n",
    "        [(2,), (3,), (5,)],\n",
    "    )\n",
    "\n",
    "    for sequence in exercise_input:\n",
    "        print(repr(sequence), 'yields', end=' ')\n",
    "        out = list(permuter(sequence))\n",
    "        if not out:\n",
    "            print('nothing at all, not even None or an empty sequence')\n",
    "        else:\n",
    "            print(', '.join(map(repr, out)))"
   ]
  },
  {
   "cell_type": "code",
   "execution_count": 2,
   "metadata": {
    "collapsed": false
   },
   "outputs": [],
   "source": [
    "def permutate1(collection):\n",
    "    '''Yields all the permutations of the collection.\n",
    "    The collection must be sliceable.'''\n",
    "    for i, item in enumerate(collection):\n",
    "        subcollection = collection[:i] + collection[i+1:]\n",
    "        if subcollection:\n",
    "            for permutation in permutate1(subcollection):\n",
    "                yield item + permutation\n",
    "        else:\n",
    "            yield item"
   ]
  },
  {
   "cell_type": "code",
   "execution_count": 3,
   "metadata": {
    "collapsed": false
   },
   "outputs": [
    {
     "name": "stdout",
     "output_type": "stream",
     "text": [
      "'' yields nothing at all, not even None or an empty sequence\n",
      "'RGB' yields 'RGB', 'RBG', 'GRB', 'GBR', 'BRG', 'BGR'\n",
      "('bat', 'cat', 'dog') yields 'batcatdog', 'batdogcat', 'catbatdog', 'catdogbat', 'dogbatcat', 'dogcatbat'\n",
      "() yields nothing at all, not even None or an empty sequence\n",
      "(2,) yields 2\n",
      "(2, 3, 5) yields 10, 10, 10, 10, 10, 10\n",
      "((2,), (3,), (5,)) yields (2, 3, 5), (2, 5, 3), (3, 2, 5), (3, 5, 2), (5, 2, 3), (5, 3, 2)\n",
      "[] yields nothing at all, not even None or an empty sequence\n",
      "[2] yields 2\n",
      "[2, 3, 5] yields 10, 10, 10, 10, 10, 10\n",
      "[(2,), (3,), (5,)] yields (2, 3, 5), (2, 5, 3), (3, 2, 5), (3, 5, 2), (5, 2, 3), (5, 3, 2)\n"
     ]
    }
   ],
   "source": [
    "exercise(permutate1)"
   ]
  },
  {
   "cell_type": "markdown",
   "metadata": {},
   "source": [
    "permutate1 yields the addition of the permuted content.\n",
    "Sometimes it returns was we want, such as for 'RGB',\n",
    "but more often it is not what we want, such as for ('bat', 'cat', 'dog') or (2, 3, 5).\n",
    "For empty sequences, it returns nothing at all, not even an empty sequence."
   ]
  },
  {
   "cell_type": "markdown",
   "metadata": {},
   "source": [
    "Compare that to how permutations from itertools works."
   ]
  },
  {
   "cell_type": "code",
   "execution_count": 4,
   "metadata": {
    "collapsed": true
   },
   "outputs": [],
   "source": [
    "import itertools"
   ]
  },
  {
   "cell_type": "code",
   "execution_count": 5,
   "metadata": {
    "collapsed": false,
    "scrolled": true
   },
   "outputs": [
    {
     "name": "stdout",
     "output_type": "stream",
     "text": [
      "'' yields ()\n",
      "'RGB' yields ('R', 'G', 'B'), ('R', 'B', 'G'), ('G', 'R', 'B'), ('G', 'B', 'R'), ('B', 'R', 'G'), ('B', 'G', 'R')\n",
      "('bat', 'cat', 'dog') yields ('bat', 'cat', 'dog'), ('bat', 'dog', 'cat'), ('cat', 'bat', 'dog'), ('cat', 'dog', 'bat'), ('dog', 'bat', 'cat'), ('dog', 'cat', 'bat')\n",
      "() yields ()\n",
      "(2,) yields (2,)\n",
      "(2, 3, 5) yields (2, 3, 5), (2, 5, 3), (3, 2, 5), (3, 5, 2), (5, 2, 3), (5, 3, 2)\n",
      "((2,), (3,), (5,)) yields ((2,), (3,), (5,)), ((2,), (5,), (3,)), ((3,), (2,), (5,)), ((3,), (5,), (2,)), ((5,), (2,), (3,)), ((5,), (3,), (2,))\n",
      "[] yields ()\n",
      "[2] yields (2,)\n",
      "[2, 3, 5] yields (2, 3, 5), (2, 5, 3), (3, 2, 5), (3, 5, 2), (5, 2, 3), (5, 3, 2)\n",
      "[(2,), (3,), (5,)] yields ((2,), (3,), (5,)), ((2,), (5,), (3,)), ((3,), (2,), (5,)), ((3,), (5,), (2,)), ((5,), (2,), (3,)), ((5,), (3,), (2,))\n"
     ]
    }
   ],
   "source": [
    "exercise(itertools.permutations)"
   ]
  },
  {
   "cell_type": "markdown",
   "metadata": {},
   "source": [
    "itertools.permutations returns tuples regardless of which kind of sequence it permutes.\n",
    "\n",
    "It returns an empty tuple for any empty sequence."
   ]
  },
  {
   "cell_type": "markdown",
   "metadata": {},
   "source": [
    "Now I make permutate have the same output as permutations from itertools.\n",
    "\n",
    "This code is written for readability, not for speed. Concatenation is slow.\n",
    "It would probably be faster to use the extend method of list."
   ]
  },
  {
   "cell_type": "code",
   "execution_count": 6,
   "metadata": {
    "collapsed": false
   },
   "outputs": [],
   "source": [
    "def permutate2(collection):\n",
    "    for i, item in enumerate(collection):\n",
    "        subcollection = collection[:i] + collection[i+1:]\n",
    "        if subcollection:\n",
    "            for permutation in permutate2(subcollection):\n",
    "                yield (item,) + permutation\n",
    "        else:\n",
    "            yield (item,)"
   ]
  },
  {
   "cell_type": "code",
   "execution_count": 7,
   "metadata": {
    "collapsed": false
   },
   "outputs": [
    {
     "name": "stdout",
     "output_type": "stream",
     "text": [
      "'' yields nothing at all, not even None or an empty sequence\n",
      "'RGB' yields ('R', 'G', 'B'), ('R', 'B', 'G'), ('G', 'R', 'B'), ('G', 'B', 'R'), ('B', 'R', 'G'), ('B', 'G', 'R')\n",
      "('bat', 'cat', 'dog') yields ('bat', 'cat', 'dog'), ('bat', 'dog', 'cat'), ('cat', 'bat', 'dog'), ('cat', 'dog', 'bat'), ('dog', 'bat', 'cat'), ('dog', 'cat', 'bat')\n",
      "() yields nothing at all, not even None or an empty sequence\n",
      "(2,) yields (2,)\n",
      "(2, 3, 5) yields (2, 3, 5), (2, 5, 3), (3, 2, 5), (3, 5, 2), (5, 2, 3), (5, 3, 2)\n",
      "((2,), (3,), (5,)) yields ((2,), (3,), (5,)), ((2,), (5,), (3,)), ((3,), (2,), (5,)), ((3,), (5,), (2,)), ((5,), (2,), (3,)), ((5,), (3,), (2,))\n",
      "[] yields nothing at all, not even None or an empty sequence\n",
      "[2] yields (2,)\n",
      "[2, 3, 5] yields (2, 3, 5), (2, 5, 3), (3, 2, 5), (3, 5, 2), (5, 2, 3), (5, 3, 2)\n",
      "[(2,), (3,), (5,)] yields ((2,), (3,), (5,)), ((2,), (5,), (3,)), ((3,), (2,), (5,)), ((3,), (5,), (2,)), ((5,), (2,), (3,)), ((5,), (3,), (2,))\n"
     ]
    }
   ],
   "source": [
    "exercise(permutate2)"
   ]
  },
  {
   "cell_type": "markdown",
   "metadata": {},
   "source": [
    "For empty sequences, permutate yields nothing at all, not even None or an empty sequence.\n",
    "That is different from itertools.permutations.\n",
    "For everything else, it yields the same output as itertools.permutations"
   ]
  },
  {
   "cell_type": "markdown",
   "metadata": {},
   "source": [
    "New style from p613 of Mark Lutz's Learning Python"
   ]
  },
  {
   "cell_type": "code",
   "execution_count": 8,
   "metadata": {
    "collapsed": true
   },
   "outputs": [],
   "source": [
    "def permute2(seq):\n",
    "    if not seq:\n",
    "        yield seq\n",
    "    else:\n",
    "        for i in range(len(seq)):\n",
    "            rest = seq[:i] + seq[i+1:]\n",
    "            for x in permute2(rest):\n",
    "                yield seq[i:i+1] + x"
   ]
  },
  {
   "cell_type": "code",
   "execution_count": 9,
   "metadata": {
    "collapsed": false
   },
   "outputs": [
    {
     "name": "stdout",
     "output_type": "stream",
     "text": [
      "'' yields ''\n",
      "'RGB' yields 'RGB', 'RBG', 'GRB', 'GBR', 'BRG', 'BGR'\n",
      "('bat', 'cat', 'dog') yields ('bat', 'cat', 'dog'), ('bat', 'dog', 'cat'), ('cat', 'bat', 'dog'), ('cat', 'dog', 'bat'), ('dog', 'bat', 'cat'), ('dog', 'cat', 'bat')\n",
      "() yields ()\n",
      "(2,) yields (2,)\n",
      "(2, 3, 5) yields (2, 3, 5), (2, 5, 3), (3, 2, 5), (3, 5, 2), (5, 2, 3), (5, 3, 2)\n",
      "((2,), (3,), (5,)) yields ((2,), (3,), (5,)), ((2,), (5,), (3,)), ((3,), (2,), (5,)), ((3,), (5,), (2,)), ((5,), (2,), (3,)), ((5,), (3,), (2,))\n",
      "[] yields []\n",
      "[2] yields [2]\n",
      "[2, 3, 5] yields [2, 3, 5], [2, 5, 3], [3, 2, 5], [3, 5, 2], [5, 2, 3], [5, 3, 2]\n",
      "[(2,), (3,), (5,)] yields [(2,), (3,), (5,)], [(2,), (5,), (3,)], [(3,), (2,), (5,)], [(3,), (5,), (2,)], [(5,), (2,), (3,)], [(5,), (3,), (2,)]\n"
     ]
    }
   ],
   "source": [
    "exercise(permute2)"
   ]
  },
  {
   "cell_type": "markdown",
   "metadata": {},
   "source": [
    "permute2 always yields the same kind of sequences it receives. I like that.\n",
    "\n",
    "It yields an empty sequence for an empty sequence.\n",
    "\n",
    "I think both are due to the \"if not seq: yield seq\",\n",
    "which yields an empty sequence of the same type it was given\n",
    "when it is given an empty sequence.\n",
    "\n",
    "The yield seq[i:i+1] + x is nice\n",
    "in that both terms are always sequences of the same type as the input.\n",
    "Even when recursions ends, x is an empty sequence of the same type as the input.\n",
    "\n",
    "Lutz' code is nice."
   ]
  },
  {
   "cell_type": "code",
   "execution_count": 10,
   "metadata": {
    "collapsed": false
   },
   "outputs": [],
   "source": [
    "def permutate4(sequence):\n",
    "    '''Yields all the permutations of the collection.\n",
    "    The collection must be sliceable.'''\n",
    "    for i in range(len(sequence)):\n",
    "        item = sequence[i:i+1]\n",
    "        subsequence = sequence[:i] + sequence[i+1:]\n",
    "        if subsequence:\n",
    "            for permutation in permutate4(subsequence):\n",
    "                yield item + permutation\n",
    "        else:\n",
    "            yield item"
   ]
  },
  {
   "cell_type": "code",
   "execution_count": 11,
   "metadata": {
    "collapsed": false
   },
   "outputs": [
    {
     "name": "stdout",
     "output_type": "stream",
     "text": [
      "'' yields nothing at all, not even None or an empty sequence\n",
      "'RGB' yields 'RGB', 'RBG', 'GRB', 'GBR', 'BRG', 'BGR'\n",
      "('bat', 'cat', 'dog') yields ('bat', 'cat', 'dog'), ('bat', 'dog', 'cat'), ('cat', 'bat', 'dog'), ('cat', 'dog', 'bat'), ('dog', 'bat', 'cat'), ('dog', 'cat', 'bat')\n",
      "() yields nothing at all, not even None or an empty sequence\n",
      "(2,) yields (2,)\n",
      "(2, 3, 5) yields (2, 3, 5), (2, 5, 3), (3, 2, 5), (3, 5, 2), (5, 2, 3), (5, 3, 2)\n",
      "((2,), (3,), (5,)) yields ((2,), (3,), (5,)), ((2,), (5,), (3,)), ((3,), (2,), (5,)), ((3,), (5,), (2,)), ((5,), (2,), (3,)), ((5,), (3,), (2,))\n",
      "[] yields nothing at all, not even None or an empty sequence\n",
      "[2] yields [2]\n",
      "[2, 3, 5] yields [2, 3, 5], [2, 5, 3], [3, 2, 5], [3, 5, 2], [5, 2, 3], [5, 3, 2]\n",
      "[(2,), (3,), (5,)] yields [(2,), (3,), (5,)], [(2,), (5,), (3,)], [(3,), (2,), (5,)], [(3,), (5,), (2,)], [(5,), (2,), (3,)], [(5,), (3,), (2,)]\n"
     ]
    }
   ],
   "source": [
    "exercise(permutate4)"
   ]
  },
  {
   "cell_type": "markdown",
   "metadata": {},
   "source": [
    "In my code, the recursion test is inside the loop,\n",
    "the body of which never executes when the function is given an empty sequence.\n",
    "That's why my code yields nothing at all when given an empty sequence.\n",
    "\n",
    "What should be yielded for an empty sequence?\n",
    "The same empty seqeunce as Lutz does or nothing at all as my code does?\n",
    "I do not know what should be yielded for an empty sequence.\n",
    "That surprises me."
   ]
  }
 ],
 "metadata": {
  "kernelspec": {
   "display_name": "Python 3",
   "language": "python",
   "name": "python3"
  },
  "language_info": {
   "codemirror_mode": {
    "name": "ipython",
    "version": 3
   },
   "file_extension": ".py",
   "mimetype": "text/x-python",
   "name": "python",
   "nbconvert_exporter": "python",
   "pygments_lexer": "ipython3",
   "version": "3.4.3"
  }
 },
 "nbformat": 4,
 "nbformat_minor": 0
}
