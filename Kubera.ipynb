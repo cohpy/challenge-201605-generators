{
 "cells": [
  {
   "cell_type": "markdown",
   "metadata": {},
   "source": [
    "# Challenge"
   ]
  },
  {
   "cell_type": "markdown",
   "metadata": {},
   "source": [
    "# 1 -\n",
    "Write a generator function that implements the [Python range\n",
    "   function](https://docs.python.org/3/library/functions.html#func-range)\n",
    "   (without using range()).\n"
   ]
  },
  {
   "cell_type": "code",
   "execution_count": 141,
   "metadata": {
    "collapsed": false
   },
   "outputs": [],
   "source": [
    "import operator\n",
    "\n",
    "def Range(start, stop=None, step=1):\n",
    "    \"\"\"\n",
    "    Get range generator.\n",
    "    \"\"\"\n",
    "    # the start value is actually stop - swap them\n",
    "    if stop is None:\n",
    "        start, stop = 0, int(start)\n",
    "    # ensure all variables are integers\n",
    "    start, stop, step = map(int, (start, stop, step))\n",
    "    \n",
    "    if step < 0:\n",
    "        cmp = operator.gt\n",
    "    elif step > 0:\n",
    "        cmp = operator.lt\n",
    "    else:\n",
    "        raise ValueError(\"Third argument must NOT be zero\")\n",
    "\n",
    "    i = start\n",
    "    while cmp(i, stop):\n",
    "        yield i\n",
    "        i += step"
   ]
  },
  {
   "cell_type": "code",
   "execution_count": 142,
   "metadata": {
    "collapsed": false
   },
   "outputs": [
    {
     "data": {
      "text/plain": [
       "<generator object Range at 0x109fe5830>"
      ]
     },
     "execution_count": 142,
     "metadata": {},
     "output_type": "execute_result"
    }
   ],
   "source": [
    "Range(5)"
   ]
  },
  {
   "cell_type": "code",
   "execution_count": 143,
   "metadata": {
    "collapsed": false
   },
   "outputs": [
    {
     "data": {
      "text/plain": [
       "([0, 1, 2, 3, 4], [-5, -4, -3, -2, -1])"
      ]
     },
     "execution_count": 143,
     "metadata": {},
     "output_type": "execute_result"
    }
   ],
   "source": [
    "list(Range(0, 5)), list(Range(-5, 0))"
   ]
  },
  {
   "cell_type": "code",
   "execution_count": 144,
   "metadata": {
    "collapsed": false
   },
   "outputs": [
    {
     "data": {
      "text/plain": [
       "[0, -1, -2, -3, -4]"
      ]
     },
     "execution_count": 144,
     "metadata": {},
     "output_type": "execute_result"
    }
   ],
   "source": [
    "list(Range(0, -5, -1))"
   ]
  },
  {
   "cell_type": "code",
   "execution_count": 145,
   "metadata": {
    "collapsed": false
   },
   "outputs": [
    {
     "data": {
      "text/plain": [
       "([0, 2, 4, 6, 8], [0, -2, -4, -6, -8])"
      ]
     },
     "execution_count": 145,
     "metadata": {},
     "output_type": "execute_result"
    }
   ],
   "source": [
    "list(Range(0, 10, 2)), list(Range(0, -10, -2))"
   ]
  },
  {
   "cell_type": "markdown",
   "metadata": {},
   "source": [
    "# 2 -\n",
    "Write a generator function that generates prime numbers via the [Sieve of Eratosthenes](https://en.wikipedia.org/wiki/Sieve_of_Eratosthenes).\n"
   ]
  },
  {
   "cell_type": "code",
   "execution_count": 146,
   "metadata": {
    "collapsed": false
   },
   "outputs": [],
   "source": [
    "import math\n",
    "\n",
    "def sieve(n):\n",
    "    # create list of n booleans indicating whether index\n",
    "    # is prime. 0 and 1 are automatically not prime. The\n",
    "    # rest are true\n",
    "    res = [False, False] + [True] * (n - 2)\n",
    "    \n",
    "    # function returning iterator (filter) of all indexes\n",
    "    # which are True\n",
    "    get_true_items = lambda *args: filter(res.__getitem__, Range(*args))\n",
    "\n",
    "    # Only have to loop through first √n items\n",
    "    sqrt = int(math.sqrt(n))\n",
    "    \n",
    "    # Set all composite indices to False\n",
    "    for i in get_true_items(sqrt + 1):\n",
    "        for j in Range((n + 1) // i - i):\n",
    "            res[i * (i + j)] = False\n",
    "\n",
    "    yield from get_true_items(n)"
   ]
  },
  {
   "cell_type": "code",
   "execution_count": 147,
   "metadata": {
    "collapsed": false
   },
   "outputs": [
    {
     "data": {
      "text/plain": [
       "[2, 3, 5, 7, 11, 13, 17, 19]"
      ]
     },
     "execution_count": 147,
     "metadata": {},
     "output_type": "execute_result"
    }
   ],
   "source": [
    "list(sieve(20))"
   ]
  },
  {
   "cell_type": "code",
   "execution_count": 150,
   "metadata": {
    "collapsed": false
   },
   "outputs": [
    {
     "data": {
      "text/plain": [
       "True"
      ]
     },
     "execution_count": 150,
     "metadata": {},
     "output_type": "execute_result"
    }
   ],
   "source": [
    "list(sieve(200)) == [2, 3, 5, 7, 11, 13, 17, 19, 23, 29, 31, 37, 41, 43, 47, 53, 59, 61, 67, 71, 73, 79, 83, 89, 97, 101, 103, 107, 109, 113, 127, 131, 137, 139, 149, 151, 157, 163, 167, 173, 179, 181, 191, 193, 197, 199]"
   ]
  },
  {
   "cell_type": "markdown",
   "metadata": {},
   "source": [
    "# 3 -\n",
    "Write a generator function that given a string, generates all [permutations](https://en.wikipedia.org/wiki/Permutation) of that string."
   ]
  },
  {
   "cell_type": "markdown",
   "metadata": {},
   "source": [
    "### \"Cheating\" Solution\n",
    "Use the itertools permutations function"
   ]
  },
  {
   "cell_type": "code",
   "execution_count": 44,
   "metadata": {
    "collapsed": false
   },
   "outputs": [
    {
     "data": {
      "text/plain": [
       "[('a', 'b', 'c'),\n",
       " ('a', 'c', 'b'),\n",
       " ('b', 'a', 'c'),\n",
       " ('b', 'c', 'a'),\n",
       " ('c', 'a', 'b'),\n",
       " ('c', 'b', 'a')]"
      ]
     },
     "execution_count": 44,
     "metadata": {},
     "output_type": "execute_result"
    }
   ],
   "source": [
    "import itertools\n",
    "list(itertools.permutations(\"abc\"))"
   ]
  },
  {
   "cell_type": "markdown",
   "metadata": {},
   "source": [
    "Does not return a string, let's write a generator to generate strings"
   ]
  },
  {
   "cell_type": "code",
   "execution_count": 40,
   "metadata": {
    "collapsed": false
   },
   "outputs": [],
   "source": [
    "def simple_permute(string):\n",
    "    for permutation in itertools.permutations(string):\n",
    "        yield ''.join(permutation)"
   ]
  },
  {
   "cell_type": "code",
   "execution_count": 42,
   "metadata": {
    "collapsed": false
   },
   "outputs": [
    {
     "data": {
      "text/plain": [
       "['abc', 'acb', 'bac', 'bca', 'cab', 'cba']"
      ]
     },
     "execution_count": 42,
     "metadata": {},
     "output_type": "execute_result"
    }
   ],
   "source": [
    "list(simple_permute('abc'))"
   ]
  },
  {
   "cell_type": "markdown",
   "metadata": {},
   "source": [
    "### Real Solution\n",
    "Permute recursively!\n",
    "* If len(string) - return string\n",
    "* Otherwise, pop first letter off\n",
    "* Get each permutation of substring\n",
    "* yield each string generated by 'moving' the first letter through substring"
   ]
  },
  {
   "cell_type": "code",
   "execution_count": 129,
   "metadata": {
    "collapsed": false
   },
   "outputs": [],
   "source": [
    "def permute_string(string):\n",
    "    if len(string) == 0:\n",
    "        return\n",
    "    elif len(string) == 1:\n",
    "        yield string\n",
    "    else:\n",
    "        a = string[0]\n",
    "        for p in permute_string(string[1:]):\n",
    "            for i in range(len(p) + 1):\n",
    "                yield \"{}{}{}\".format(p[:i], a, p[i:])"
   ]
  },
  {
   "cell_type": "code",
   "execution_count": 130,
   "metadata": {
    "collapsed": false
   },
   "outputs": [
    {
     "data": {
      "text/plain": [
       "['a']"
      ]
     },
     "execution_count": 130,
     "metadata": {},
     "output_type": "execute_result"
    }
   ],
   "source": [
    "list(permute_string('a'))"
   ]
  },
  {
   "cell_type": "code",
   "execution_count": 131,
   "metadata": {
    "collapsed": false
   },
   "outputs": [
    {
     "data": {
      "text/plain": [
       "['ab', 'ba']"
      ]
     },
     "execution_count": 131,
     "metadata": {},
     "output_type": "execute_result"
    }
   ],
   "source": [
    "list(permute_string('ab'))"
   ]
  },
  {
   "cell_type": "code",
   "execution_count": 136,
   "metadata": {
    "collapsed": false
   },
   "outputs": [
    {
     "data": {
      "text/plain": [
       "['abc', 'bac', 'bca', 'acb', 'cab', 'cba']"
      ]
     },
     "execution_count": 136,
     "metadata": {},
     "output_type": "execute_result"
    }
   ],
   "source": [
    "list(permute_string('abc'))"
   ]
  },
  {
   "cell_type": "code",
   "execution_count": 139,
   "metadata": {
    "collapsed": false
   },
   "outputs": [
    {
     "data": {
      "text/plain": [
       "True"
      ]
     },
     "execution_count": 139,
     "metadata": {},
     "output_type": "execute_result"
    }
   ],
   "source": [
    "len(list(permute_string('abcd'))) == math.factorial(4)"
   ]
  },
  {
   "cell_type": "code",
   "execution_count": 135,
   "metadata": {
    "collapsed": false
   },
   "outputs": [
    {
     "data": {
      "text/plain": [
       "['aaa', 'aaa', 'aaa', 'aaa', 'aaa', 'aaa']"
      ]
     },
     "execution_count": 135,
     "metadata": {},
     "output_type": "execute_result"
    }
   ],
   "source": [
    "list(permute_string('aaa'))"
   ]
  },
  {
   "cell_type": "markdown",
   "metadata": {},
   "source": [
    "# 4 -\n",
    "Write a generator function that generates all [Pythagorean Triples](https://en.wikipedia.org/wiki/Pythagorean_triple) starting with (3,4,5).\n"
   ]
  },
  {
   "cell_type": "markdown",
   "metadata": {},
   "source": [
    "### BRUTE FORCE METHOD"
   ]
  },
  {
   "cell_type": "code",
   "execution_count": 86,
   "metadata": {
    "collapsed": false
   },
   "outputs": [],
   "source": [
    "import math\n",
    "\n",
    "def p_triples(start=3, stop=100):\n",
    "    for a in range(start, stop):\n",
    "        for b in range(a + 1, stop):\n",
    "            s = math.sqrt(a ** 2 + b ** 2)\n",
    "            c = int(s)\n",
    "            if s == c:\n",
    "                # check if this number is factorable (ignore)\n",
    "                x = math.gcd(a, b)\n",
    "                if x != 1 and c / x == c // x:\n",
    "                    continue\n",
    "\n",
    "                yield (a, b, c)\n"
   ]
  },
  {
   "cell_type": "code",
   "execution_count": 98,
   "metadata": {
    "collapsed": false
   },
   "outputs": [
    {
     "data": {
      "text/plain": [
       "[(3, 4, 5),\n",
       " (5, 12, 13),\n",
       " (7, 24, 25),\n",
       " (8, 15, 17),\n",
       " (9, 40, 41),\n",
       " (11, 60, 61),\n",
       " (12, 35, 37),\n",
       " (13, 84, 85),\n",
       " (16, 63, 65),\n",
       " (20, 21, 29),\n",
       " (28, 45, 53),\n",
       " (33, 56, 65),\n",
       " (36, 77, 85),\n",
       " (39, 80, 89),\n",
       " (48, 55, 73),\n",
       " (65, 72, 97)]"
      ]
     },
     "execution_count": 98,
     "metadata": {},
     "output_type": "execute_result"
    }
   ],
   "source": [
    "list(filter(lambda x: x[2] < 100, p_triples(3, 250)))"
   ]
  },
  {
   "cell_type": "markdown",
   "metadata": {},
   "source": [
    "**Euclid's formula** tells us that for integers $m > n$:\n",
    "$$a = m ^ 2 - n ^ 2, b = 2mn, c = m^2 + n ^2$$"
   ]
  },
  {
   "cell_type": "code",
   "execution_count": 109,
   "metadata": {
    "collapsed": true
   },
   "outputs": [],
   "source": [
    "def euclid_triples(stop=600):\n",
    "    for n in range(1, stop):\n",
    "        for m in range(n + 1, stop):\n",
    "            a = m ** 2 - n ** 2\n",
    "            b = 2 * m * n\n",
    "            c =  m ** 2 + n ** 2\n",
    "            x = math.gcd(a, b)\n",
    "            if x != 1 and c / x == c // x:\n",
    "                continue\n",
    "            assert c == math.sqrt(a ** 2 + b ** 2)\n",
    "            yield (a, b, c)\n",
    "            continue\n",
    "            c = int(s)\n",
    "            if s == c:\n",
    "                # check if this number is factorable (ignore)\n",
    "\n",
    "                yield (a, b, c)\n"
   ]
  },
  {
   "cell_type": "code",
   "execution_count": 128,
   "metadata": {
    "collapsed": false
   },
   "outputs": [
    {
     "data": {
      "text/plain": [
       "[(3, 4, 5),\n",
       " (5, 12, 13),\n",
       " (15, 8, 17),\n",
       " (7, 24, 25),\n",
       " (21, 20, 29),\n",
       " (35, 12, 37),\n",
       " (9, 40, 41),\n",
       " (45, 28, 53),\n",
       " (11, 60, 61),\n",
       " (63, 16, 65),\n",
       " (33, 56, 65),\n",
       " (55, 48, 73),\n",
       " (77, 36, 85),\n",
       " (13, 84, 85),\n",
       " (39, 80, 89),\n",
       " (65, 72, 97),\n",
       " (15, 112, 113),\n",
       " (17, 144, 145)]"
      ]
     },
     "execution_count": 128,
     "metadata": {},
     "output_type": "execute_result"
    }
   ],
   "source": [
    "sorted(euclid_triples(10), key=lambda x: x[2])"
   ]
  },
  {
   "cell_type": "code",
   "execution_count": null,
   "metadata": {
    "collapsed": true
   },
   "outputs": [],
   "source": []
  },
  {
   "cell_type": "code",
   "execution_count": null,
   "metadata": {
    "collapsed": true
   },
   "outputs": [],
   "source": []
  },
  {
   "cell_type": "code",
   "execution_count": null,
   "metadata": {
    "collapsed": true
   },
   "outputs": [],
   "source": []
  },
  {
   "cell_type": "code",
   "execution_count": null,
   "metadata": {
    "collapsed": true
   },
   "outputs": [],
   "source": []
  },
  {
   "cell_type": "code",
   "execution_count": null,
   "metadata": {
    "collapsed": true
   },
   "outputs": [],
   "source": []
  },
  {
   "cell_type": "code",
   "execution_count": null,
   "metadata": {
    "collapsed": true
   },
   "outputs": [],
   "source": []
  },
  {
   "cell_type": "code",
   "execution_count": null,
   "metadata": {
    "collapsed": true
   },
   "outputs": [],
   "source": []
  },
  {
   "cell_type": "code",
   "execution_count": null,
   "metadata": {
    "collapsed": true
   },
   "outputs": [],
   "source": []
  },
  {
   "cell_type": "code",
   "execution_count": null,
   "metadata": {
    "collapsed": true
   },
   "outputs": [],
   "source": []
  }
 ],
 "metadata": {
  "kernelspec": {
   "display_name": "Python 3",
   "language": "python",
   "name": "python3"
  },
  "language_info": {
   "codemirror_mode": {
    "name": "ipython",
    "version": 3
   },
   "file_extension": ".py",
   "mimetype": "text/x-python",
   "name": "python",
   "nbconvert_exporter": "python",
   "pygments_lexer": "ipython3",
   "version": "3.5.1"
  },
  "widgets": {
   "state": {},
   "version": "1.1.2"
  }
 },
 "nbformat": 4,
 "nbformat_minor": 0
}
